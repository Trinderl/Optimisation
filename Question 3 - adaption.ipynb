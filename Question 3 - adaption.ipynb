{
 "cells": [
  {
   "cell_type": "markdown",
   "metadata": {},
   "source": [
    "# Import libraries"
   ]
  },
  {
   "cell_type": "code",
   "execution_count": 553,
   "metadata": {},
   "outputs": [],
   "source": [
    "import numpy as np\n",
    "import matplotlib.pyplot as plt\n",
    "import pandas as pd\n",
    "import statistics\n",
    "from scipy.stats import mode\n",
    "import random\n",
    "import seaborn\n",
    "import cardinality"
   ]
  },
  {
   "cell_type": "markdown",
   "metadata": {},
   "source": [
    "# Parameters"
   ]
  },
  {
   "cell_type": "code",
   "execution_count": 554,
   "metadata": {},
   "outputs": [],
   "source": [
    "walk_length = 100\n",
    "Maxweight = 16\n",
    "value = [8, 11, 9, 12, 14, 10, 6, 7, 13] #benefits of the items\n",
    "weights = [1, 2, 3, 2, 3, 4, 1, 5, 3] #weights of the items\n",
    "n = 9 #number of items"
   ]
  },
  {
   "cell_type": "markdown",
   "metadata": {},
   "source": [
    "# Initial Solution"
   ]
  },
  {
   "cell_type": "code",
   "execution_count": 555,
   "metadata": {},
   "outputs": [],
   "source": [
    "s0i = [0, 1, 1, 1, 0, 0, 1, 1, 1] \n",
    "s0ii = [0, 1, 0, 1, 0, 0, 0, 1, 0]\n",
    "#Given in the question\n",
    "\n",
    "s0 = [0, 0, 0, 0, 0, 0, 0, 0, 0]\n",
    "s1 = [1, 1, 1, 1, 1, 0, 1, 1, 1]"
   ]
  },
  {
   "cell_type": "markdown",
   "metadata": {},
   "source": [
    "# Model"
   ]
  },
  {
   "cell_type": "markdown",
   "metadata": {},
   "source": [
    "## neighborhood"
   ]
  },
  {
   "cell_type": "code",
   "execution_count": 556,
   "metadata": {},
   "outputs": [],
   "source": [
    "#single-bit complememnt moves neighborhood of solution x         \n",
    "def neighborhood(x):\n",
    "    \n",
    "    neighborhood = []     \n",
    "    \n",
    "    for i in range(0,n):\n",
    "        neighborhood.append(x[:])\n",
    "        \n",
    "        if neighborhood[i][i] == 1:\n",
    "            neighborhood[i][i] = 0\n",
    "        else:\n",
    "            neighborhood[i][i] = 1\n",
    "      \n",
    "    return neighborhood"
   ]
  },
  {
   "cell_type": "markdown",
   "metadata": {},
   "source": [
    "## Evaluate"
   ]
  },
  {
   "cell_type": "code",
   "execution_count": 557,
   "metadata": {},
   "outputs": [],
   "source": [
    "#function to evaluate a solution x\n",
    "def evaluate(x):\n",
    "          \n",
    "    a=np.array(x)\n",
    "    b=np.array(value)\n",
    "    c=np.array(weights)\n",
    "    \n",
    "    totalValue = np.dot(a,b)     #compute the value of the knapsack selection\n",
    "    totalWeight = np.dot(a,c)    #compute the weight value of the knapsack selection\n",
    "    \n",
    "    if totalWeight > Maxweight:\n",
    "        totalValue = \"infeasible\" \n",
    "\n",
    "    return totalValue   #returns the total value of the items"
   ]
  },
  {
   "cell_type": "markdown",
   "metadata": {},
   "source": [
    "## Overall logic"
   ]
  },
  {
   "cell_type": "markdown",
   "metadata": {},
   "source": [
    "# Random Walk"
   ]
  },
  {
   "cell_type": "code",
   "execution_count": 558,
   "metadata": {},
   "outputs": [
    {
     "name": "stdout",
     "output_type": "stream",
     "text": [
      "[0, 1, 2, 3, 4, 5, 6, 7, 8, 9, 10, 11, 12, 13, 14, 15, 16, 17, 18, 19, 20, 21, 22, 23, 24, 25, 26, 27, 28, 29, 30, 31, 32, 33, 34, 35, 36, 37, 38, 39, 40, 41, 42, 43, 44, 45, 46, 47, 48, 49, 50, 51, 52, 53, 54, 55, 56, 57, 58, 59, 60, 61, 62, 63, 64, 65, 66, 67, 68, 69, 70, 71, 72, 73, 74, 75, 76, 77, 78, 79, 80, 81, 82, 83, 84, 85, 86, 87, 88, 89, 90, 91, 92, 93, 94, 95, 96, 97, 98, 99, 100]\n",
      "[0, 10, 19, 32, 43, 33, 47, 59, 45, 32, 45, 36, 42, 56, 50, 58, 45, 33, 42, 34, 25, 33, 40, 49, 40, 32, 21, 29, 35, 47, 39, 32, 43, 52, 65, 53, 44, 31, 39, 49, 56, 42, 35, 24, 16, 27, 34, 47, 41, 31, 18, 31, 20, 7, 15, 8, 22, 32, 44, 57, 43, 49, 63, 50, 59, 45, 59, 70, 60, 73, 62, 49, 56, 49, 40, 50, 61, 47, 60, 50, 37, 50, 59, 50, 39, 26, 14, 21, 15, 26, 15, 26, 40, 46, 38, 31, 17, 11, 21, 29, 18]\n"
     ]
    }
   ],
   "source": [
    "Step = []\n",
    "Fitness = []\n",
    "\n",
    "step = 0\n",
    "Step.append(step)\n",
    "\n",
    "current = s0\n",
    "fitness = evaluate(current)\n",
    "Fitness.append(fitness)\n",
    "\n",
    "while step < 100:    #to perform a random walk of 100 solutions\n",
    "    \n",
    "    Neighbour = neighborhood(current)\n",
    "    randomised = int(random.random() * (len(Neighbour)))  #Select any random neighbour of the current solution\n",
    "    Selected_neighbour = Neighbour[randomised]\n",
    "\n",
    "    feasible = evaluate(Selected_neighbour)               #evaluate the objective function of the random neighbour\n",
    "\n",
    "    while feasible == \"infeasible\":     #if the random neighbour chosen is infeasible, chose another random neighbour\n",
    "        randomised = int(random.random() * (len(Neighbour)))\n",
    "        Selected_neighbour = Neighbour[randomised]\n",
    "        feasible = evaluate(Selected_neighbour)\n",
    "\n",
    "    step = step + 1\n",
    "    Step.append(step)             #save the number of steps taken\n",
    "    Fitness.append(feasible)      #save the objective function of each chosen neighbour\n",
    "\n",
    "    current = Selected_neighbour  #the new neighbourhood is chosen from the random feasible neightbour chosen\n",
    "\n",
    "print(Step)\n",
    "print(Fitness)"
   ]
  },
  {
   "cell_type": "code",
   "execution_count": 559,
   "metadata": {},
   "outputs": [
    {
     "data": {
      "image/png": "[encoded data removed]",
      "text/plain": [
       "<Figure size 432x288 with 1 Axes>"
      ]
     },
     "metadata": {
      "needs_background": "light"
     },
     "output_type": "display_data"
    }
   ],
   "source": [
    "plt.plot(Step, Fitness, color = 'cyan')\n",
    "plt.savefig('Random walk.png', transparent=True)"
   ]
  },
  {
   "cell_type": "markdown",
   "metadata": {},
   "source": [
    "# Parameters"
   ]
  },
  {
   "cell_type": "code",
   "execution_count": 560,
   "metadata": {},
   "outputs": [],
   "source": [
    "m = 100 \n",
    "d = 1\n",
    "f_bar = np.mean(Fitness)  #this is the mean value of the finess values\n",
    "σ = np.var(Fitness)       #this is the variance value of the fitness values"
   ]
  },
  {
   "cell_type": "markdown",
   "metadata": {},
   "source": [
    "# Correlation Calculations"
   ]
  },
  {
   "cell_type": "code",
   "execution_count": 561,
   "metadata": {
    "scrolled": true
   },
   "outputs": [
    {
     "data": {
      "text/plain": [
       "0.7387627992933611"
      ]
     },
     "execution_count": 561,
     "metadata": {},
     "output_type": "execute_result"
    }
   ],
   "source": [
    "r = []\n",
    "\n",
    "for i in range(len(Fitness)-1):\n",
    "    \n",
    "    r_sum = (Fitness[i]-f_bar)*(Fitness[i+1]-f_bar)\n",
    "    r.append(r_sum)\n",
    "    \n",
    "r = sum(r)*(1/((m-d)*σ))           #random walk correlation function\n",
    "r"
   ]
  },
  {
   "cell_type": "code",
   "execution_count": 562,
   "metadata": {},
   "outputs": [
    {
     "data": {
      "text/plain": [
       "3.3027456720519637"
      ]
     },
     "execution_count": 562,
     "metadata": {},
     "output_type": "execute_result"
    }
   ],
   "source": [
    "l = 1/np.abs((np.log(np.abs(r))))  #correlation length\n",
    "l"
   ]
  },
  {
   "cell_type": "code",
   "execution_count": 563,
   "metadata": {},
   "outputs": [
    {
     "data": {
      "text/plain": [
       "73"
      ]
     },
     "execution_count": 563,
     "metadata": {},
     "output_type": "execute_result"
    }
   ],
   "source": [
    "a = np.max(Fitness)\n",
    "b = np.min(Fitness)\n",
    "diam_G = a - b\n",
    "diam_G"
   ]
  },
  {
   "cell_type": "code",
   "execution_count": 564,
   "metadata": {},
   "outputs": [
    {
     "data": {
      "text/plain": [
       "0.045243091397972106"
      ]
     },
     "execution_count": 564,
     "metadata": {},
     "output_type": "execute_result"
    }
   ],
   "source": [
    "ϵ = l/diam_G         #normalised correlation length\n",
    "ϵ"
   ]
  },
  {
   "cell_type": "markdown",
   "metadata": {},
   "source": [
    "# Question 2"
   ]
  },
  {
   "cell_type": "markdown",
   "metadata": {},
   "source": [
    "# Parameters"
   ]
  },
  {
   "cell_type": "code",
   "execution_count": 565,
   "metadata": {},
   "outputs": [],
   "source": [
    "max_items = 2\n",
    "s0 = [0, 1, 1, 0, 0, 0, 0, 0, 0]"
   ]
  },
  {
   "cell_type": "code",
   "execution_count": 566,
   "metadata": {},
   "outputs": [],
   "source": [
    "#function to evaluate a solution x\n",
    "def evaluate2(x):\n",
    "          \n",
    "    a=np.array(x)\n",
    "    b=np.array(value)\n",
    "    c=np.array(weights)\n",
    "    \n",
    "    totalObjects = sum(x)\n",
    "    \n",
    "    totalValue = np.dot(a,b)     #compute the value of the knapsack selection\n",
    "    totalWeight = np.dot(a,c)    #compute the weight value of the knapsack selection\n",
    "    \n",
    "    if totalWeight > Maxweight:\n",
    "        totalValue = \"infeasible\" \n",
    "        \n",
    "    if totalObjects == 2:         #add in the restriction that there can only be twon items\n",
    "        totalValue = totalValue\n",
    "        \n",
    "    else:\n",
    "        totalValue = \"infeasible\" \n",
    "\n",
    "    return totalValue   #returns the total value of the items"
   ]
  },
  {
   "cell_type": "code",
   "execution_count": 567,
   "metadata": {},
   "outputs": [
    {
     "data": {
      "text/plain": [
       "20"
      ]
     },
     "execution_count": 567,
     "metadata": {},
     "output_type": "execute_result"
    }
   ],
   "source": [
    "evaluate2(s0)"
   ]
  },
  {
   "cell_type": "code",
   "execution_count": 568,
   "metadata": {},
   "outputs": [],
   "source": [
    "current = [1, 0, 0, 0, 0, 0, 0, 0, 0]"
   ]
  },
  {
   "cell_type": "code",
   "execution_count": 569,
   "metadata": {},
   "outputs": [
    {
     "name": "stdout",
     "output_type": "stream",
     "text": [
      "[0, 1, 0, 0, 0, 0, 0, 0, 0]\n",
      "[0, 0, 1, 0, 0, 0, 0, 0, 0]\n",
      "[0, 0, 0, 1, 0, 0, 0, 0, 0]\n",
      "[0, 0, 0, 0, 1, 0, 0, 0, 0]\n",
      "[0, 0, 0, 0, 0, 1, 0, 0, 0]\n",
      "[0, 0, 0, 0, 0, 0, 1, 0, 0]\n",
      "[0, 0, 0, 0, 0, 0, 0, 1, 0]\n",
      "[0, 0, 0, 0, 0, 0, 0, 0, 1]\n",
      "[[1, 1, 0, 0, 0, 0, 0, 0, 0], [1, 0, 1, 0, 0, 0, 0, 0, 0], [1, 0, 0, 1, 0, 0, 0, 0, 0], [1, 0, 0, 0, 1, 0, 0, 0, 0], [1, 0, 0, 0, 0, 1, 0, 0, 0], [1, 0, 0, 0, 0, 0, 1, 0, 0], [1, 0, 0, 0, 0, 0, 0, 1, 0], [1, 0, 0, 0, 0, 0, 0, 0, 1], [0, 1, 1, 0, 0, 0, 0, 0, 0], [0, 1, 0, 1, 0, 0, 0, 0, 0], [0, 1, 0, 0, 1, 0, 0, 0, 0], [0, 1, 0, 0, 0, 1, 0, 0, 0], [0, 1, 0, 0, 0, 0, 1, 0, 0], [0, 1, 0, 0, 0, 0, 0, 1, 0], [0, 1, 0, 0, 0, 0, 0, 0, 1], [0, 0, 1, 1, 0, 0, 0, 0, 0], [0, 0, 1, 0, 1, 0, 0, 0, 0], [0, 0, 1, 0, 0, 1, 0, 0, 0], [0, 0, 1, 0, 0, 0, 1, 0, 0], [0, 0, 1, 0, 0, 0, 0, 1, 0], [0, 0, 1, 0, 0, 0, 0, 0, 1], [0, 0, 0, 1, 1, 0, 0, 0, 0], [0, 0, 0, 1, 0, 1, 0, 0, 0], [0, 0, 0, 1, 0, 0, 1, 0, 0], [0, 0, 0, 1, 0, 0, 0, 1, 0], [0, 0, 0, 1, 0, 0, 0, 0, 1], [0, 0, 0, 0, 1, 1, 0, 0, 0], [0, 0, 0, 0, 1, 0, 1, 0, 0], [0, 0, 0, 0, 1, 0, 0, 1, 0], [0, 0, 0, 0, 1, 0, 0, 0, 1], [0, 0, 0, 0, 0, 1, 1, 0, 0], [0, 0, 0, 0, 0, 1, 0, 1, 0], [0, 0, 0, 0, 0, 1, 0, 0, 1], [0, 0, 0, 0, 0, 0, 1, 1, 0], [0, 0, 0, 0, 0, 0, 1, 0, 1], [0, 0, 0, 0, 0, 0, 0, 1, 1]]\n"
     ]
    }
   ],
   "source": [
    "U = []\n",
    "\n",
    "current = [1, 0, 0, 0, 0, 0, 0, 0, 0]  #use this point as a starting point to find all potential solutions\n",
    "\n",
    "while len(U) < 36:\n",
    "    \n",
    "    Neighbour = neighborhood(current)\n",
    "    \n",
    "    for i in range(len(current)):\n",
    "        \n",
    "        feasible = evaluate2(Neighbour[i])   #use evaluate 2 because it has the added restriction of only allowing two items\n",
    "        \n",
    "        if feasible != 'infeasible':       #make sure that the solution is feasible\n",
    "            if Neighbour[i] not in U:      #make sure that the solution is unique and not already in the list \n",
    "                U.append(Neighbour[i])\n",
    "            \n",
    "    max = np.max(current)\n",
    "    condition = (current == max)\n",
    "    result = np.where(condition)[0]\n",
    "\n",
    "    for i in range(len(current)):       \n",
    "\n",
    "        if current[i] == 1:     \n",
    "            current[i] = 0 \n",
    "\n",
    "        current[result[0] + 1] = 1    #Change the starting point to another solution that only has one item at a different point\n",
    "\n",
    "    print(current)\n",
    "    \n",
    "print(U)"
   ]
  },
  {
   "cell_type": "code",
   "execution_count": 570,
   "metadata": {},
   "outputs": [
    {
     "name": "stdout",
     "output_type": "stream",
     "text": [
      "[19, 17, 20, 22, 18, 14, 15, 21, 20, 23, 25, 21, 17, 18, 24, 21, 23, 19, 15, 16, 22, 26, 22, 18, 19, 25, 24, 20, 21, 27, 16, 17, 23, 13, 19, 20]\n"
     ]
    }
   ],
   "source": [
    "Objective_function_U = []\n",
    "\n",
    "for i in range(len(U)):\n",
    "\n",
    "    feasable = evaluate(U[i])\n",
    "    Objective_function_U.append(feasable)\n",
    "    \n",
    "print(Objective_function_U)"
   ]
  },
  {
   "cell_type": "code",
   "execution_count": null,
   "metadata": {},
   "outputs": [],
   "source": []
  },
  {
   "cell_type": "code",
   "execution_count": 571,
   "metadata": {},
   "outputs": [
    {
     "name": "stdout",
     "output_type": "stream",
     "text": [
      "[1, 1, 0, 0, 0, 0, 0, 0, 0] [1, 1, 0, 0, 0, 0, 0, 0, 0] 19 19\n"
     ]
    }
   ],
   "source": [
    "x_current = U[0]                  #The current starting solution \n",
    "x_best = x_current                #The best solution \n",
    "f_current = evaluate(x_current)   #The value of the current starting soluton \n",
    "f_best = f_current                #The value of the best solution\n",
    "\n",
    "print(x_current, x_best, f_current, f_best)"
   ]
  },
  {
   "cell_type": "code",
   "execution_count": 572,
   "metadata": {},
   "outputs": [
    {
     "name": "stdout",
     "output_type": "stream",
     "text": [
      "\n",
      "initial conditions: [1, 1, 0, 0, 0, 0, 0, 0, 0] [1, 1, 0, 0, 0, 0, 0, 0, 0] 19 19\n",
      "\n",
      "Final number of solutions checked:  6\n",
      "Best value found:  74\n",
      "Weight is:  74\n",
      "Total number of items selected:  7\n",
      "Best solution:  [1, 1, 0, 1, 1, 1, 1, 0, 1]\n",
      "\n",
      "initial conditions: [1, 0, 1, 0, 0, 0, 0, 0, 0] [1, 0, 1, 0, 0, 0, 0, 0, 0] 17 17\n",
      "\n",
      "Final number of solutions checked:  6\n",
      "Best value found:  73\n",
      "Weight is:  73\n",
      "Total number of items selected:  7\n",
      "Best solution:  [1, 1, 1, 1, 1, 0, 1, 0, 1]\n",
      "\n",
      "initial conditions: [1, 0, 0, 1, 0, 0, 0, 0, 0] [1, 0, 0, 1, 0, 0, 0, 0, 0] 20 20\n",
      "\n",
      "Final number of solutions checked:  6\n",
      "Best value found:  74\n",
      "Weight is:  74\n",
      "Total number of items selected:  7\n",
      "Best solution:  [1, 1, 0, 1, 1, 1, 1, 0, 1]\n",
      "\n",
      "initial conditions: [1, 0, 0, 0, 1, 0, 0, 0, 0] [1, 0, 0, 0, 1, 0, 0, 0, 0] 22 22\n",
      "\n",
      "Final number of solutions checked:  6\n",
      "Best value found:  74\n",
      "Weight is:  74\n",
      "Total number of items selected:  7\n",
      "Best solution:  [1, 1, 0, 1, 1, 1, 1, 0, 1]\n",
      "\n",
      "initial conditions: [1, 0, 0, 0, 0, 1, 0, 0, 0] [1, 0, 0, 0, 0, 1, 0, 0, 0] 18 18\n",
      "\n",
      "Final number of solutions checked:  6\n",
      "Best value found:  74\n",
      "Weight is:  74\n",
      "Total number of items selected:  7\n",
      "Best solution:  [1, 1, 0, 1, 1, 1, 1, 0, 1]\n",
      "\n",
      "initial conditions: [1, 0, 0, 0, 0, 0, 1, 0, 0] [1, 0, 0, 0, 0, 0, 1, 0, 0] 14 14\n",
      "\n",
      "Final number of solutions checked:  6\n",
      "Best value found:  74\n",
      "Weight is:  74\n",
      "Total number of items selected:  7\n",
      "Best solution:  [1, 1, 0, 1, 1, 1, 1, 0, 1]\n",
      "\n",
      "initial conditions: [1, 0, 0, 0, 0, 0, 0, 1, 0] [1, 0, 0, 0, 0, 0, 0, 1, 0] 15 15\n",
      "\n",
      "Final number of solutions checked:  5\n",
      "Best value found:  65\n",
      "Weight is:  65\n",
      "Total number of items selected:  6\n",
      "Best solution:  [1, 1, 0, 1, 1, 0, 0, 1, 1]\n",
      "\n",
      "initial conditions: [1, 0, 0, 0, 0, 0, 0, 0, 1] [1, 0, 0, 0, 0, 0, 0, 0, 1] 21 21\n",
      "\n",
      "Final number of solutions checked:  6\n",
      "Best value found:  74\n",
      "Weight is:  74\n",
      "Total number of items selected:  7\n",
      "Best solution:  [1, 1, 0, 1, 1, 1, 1, 0, 1]\n",
      "\n",
      "initial conditions: [0, 1, 1, 0, 0, 0, 0, 0, 0] [0, 1, 1, 0, 0, 0, 0, 0, 0] 20 20\n",
      "\n",
      "Final number of solutions checked:  6\n",
      "Best value found:  73\n",
      "Weight is:  73\n",
      "Total number of items selected:  7\n",
      "Best solution:  [1, 1, 1, 1, 1, 0, 1, 0, 1]\n",
      "\n",
      "initial conditions: [0, 1, 0, 1, 0, 0, 0, 0, 0] [0, 1, 0, 1, 0, 0, 0, 0, 0] 23 23\n",
      "\n",
      "Final number of solutions checked:  6\n",
      "Best value found:  74\n",
      "Weight is:  74\n",
      "Total number of items selected:  7\n",
      "Best solution:  [1, 1, 0, 1, 1, 1, 1, 0, 1]\n",
      "\n",
      "initial conditions: [0, 1, 0, 0, 1, 0, 0, 0, 0] [0, 1, 0, 0, 1, 0, 0, 0, 0] 25 25\n",
      "\n",
      "Final number of solutions checked:  6\n",
      "Best value found:  74\n",
      "Weight is:  74\n",
      "Total number of items selected:  7\n",
      "Best solution:  [1, 1, 0, 1, 1, 1, 1, 0, 1]\n",
      "\n",
      "initial conditions: [0, 1, 0, 0, 0, 1, 0, 0, 0] [0, 1, 0, 0, 0, 1, 0, 0, 0] 21 21\n",
      "\n",
      "Final number of solutions checked:  6\n",
      "Best value found:  74\n",
      "Weight is:  74\n",
      "Total number of items selected:  7\n",
      "Best solution:  [1, 1, 0, 1, 1, 1, 1, 0, 1]\n",
      "\n",
      "initial conditions: [0, 1, 0, 0, 0, 0, 1, 0, 0] [0, 1, 0, 0, 0, 0, 1, 0, 0] 17 17\n",
      "\n",
      "Final number of solutions checked:  6\n",
      "Best value found:  74\n",
      "Weight is:  74\n",
      "Total number of items selected:  7\n",
      "Best solution:  [1, 1, 0, 1, 1, 1, 1, 0, 1]\n",
      "\n",
      "initial conditions: [0, 1, 0, 0, 0, 0, 0, 1, 0] [0, 1, 0, 0, 0, 0, 0, 1, 0] 18 18\n",
      "\n",
      "Final number of solutions checked:  5\n",
      "Best value found:  65\n",
      "Weight is:  65\n",
      "Total number of items selected:  6\n",
      "Best solution:  [1, 1, 0, 1, 1, 0, 0, 1, 1]\n",
      "\n",
      "initial conditions: [0, 1, 0, 0, 0, 0, 0, 0, 1] [0, 1, 0, 0, 0, 0, 0, 0, 1] 24 24\n",
      "\n",
      "Final number of solutions checked:  6\n",
      "Best value found:  74\n",
      "Weight is:  74\n",
      "Total number of items selected:  7\n",
      "Best solution:  [1, 1, 0, 1, 1, 1, 1, 0, 1]\n",
      "\n",
      "initial conditions: [0, 0, 1, 1, 0, 0, 0, 0, 0] [0, 0, 1, 1, 0, 0, 0, 0, 0] 21 21\n",
      "\n",
      "Final number of solutions checked:  6\n",
      "Best value found:  73\n",
      "Weight is:  73\n",
      "Total number of items selected:  7\n",
      "Best solution:  [1, 1, 1, 1, 1, 0, 1, 0, 1]\n",
      "\n",
      "initial conditions: [0, 0, 1, 0, 1, 0, 0, 0, 0] [0, 0, 1, 0, 1, 0, 0, 0, 0] 23 23\n",
      "\n",
      "Final number of solutions checked:  6\n",
      "Best value found:  73\n",
      "Weight is:  73\n",
      "Total number of items selected:  7\n",
      "Best solution:  [1, 1, 1, 1, 1, 0, 1, 0, 1]\n",
      "\n",
      "initial conditions: [0, 0, 1, 0, 0, 1, 0, 0, 0] [0, 0, 1, 0, 0, 1, 0, 0, 0] 19 19\n",
      "\n",
      "Final number of solutions checked:  5\n",
      "Best value found:  66\n",
      "Weight is:  66\n",
      "Total number of items selected:  6\n",
      "Best solution:  [1, 0, 1, 1, 1, 1, 0, 0, 1]\n",
      "\n",
      "initial conditions: [0, 0, 1, 0, 0, 0, 1, 0, 0] [0, 0, 1, 0, 0, 0, 1, 0, 0] 15 15\n",
      "\n",
      "Final number of solutions checked:  6\n",
      "Best value found:  73\n",
      "Weight is:  73\n",
      "Total number of items selected:  7\n",
      "Best solution:  [1, 1, 1, 1, 1, 0, 1, 0, 1]\n",
      "\n",
      "initial conditions: [0, 0, 1, 0, 0, 0, 0, 1, 0] [0, 0, 1, 0, 0, 0, 0, 1, 0] 16 16\n",
      "\n",
      "Final number of solutions checked:  4\n",
      "Best value found:  55\n",
      "Weight is:  55\n",
      "Total number of items selected:  5\n",
      "Best solution:  [0, 0, 1, 1, 1, 0, 0, 1, 1]\n",
      "\n",
      "initial conditions: [0, 0, 1, 0, 0, 0, 0, 0, 1] [0, 0, 1, 0, 0, 0, 0, 0, 1] 22 22\n",
      "\n",
      "Final number of solutions checked:  6\n",
      "Best value found:  73\n",
      "Weight is:  73\n",
      "Total number of items selected:  7\n",
      "Best solution:  [1, 1, 1, 1, 1, 0, 1, 0, 1]\n",
      "\n",
      "initial conditions: [0, 0, 0, 1, 1, 0, 0, 0, 0] [0, 0, 0, 1, 1, 0, 0, 0, 0] 26 26\n",
      "\n",
      "Final number of solutions checked:  6\n",
      "Best value found:  74\n",
      "Weight is:  74\n",
      "Total number of items selected:  7\n",
      "Best solution:  [1, 1, 0, 1, 1, 1, 1, 0, 1]\n",
      "\n",
      "initial conditions: [0, 0, 0, 1, 0, 1, 0, 0, 0] [0, 0, 0, 1, 0, 1, 0, 0, 0] 22 22\n",
      "\n",
      "Final number of solutions checked:  6\n",
      "Best value found:  74\n",
      "Weight is:  74\n",
      "Total number of items selected:  7\n",
      "Best solution:  [1, 1, 0, 1, 1, 1, 1, 0, 1]\n",
      "\n",
      "initial conditions: [0, 0, 0, 1, 0, 0, 1, 0, 0] [0, 0, 0, 1, 0, 0, 1, 0, 0] 18 18\n",
      "\n",
      "Final number of solutions checked:  6\n",
      "Best value found:  74\n",
      "Weight is:  74\n",
      "Total number of items selected:  7\n",
      "Best solution:  [1, 1, 0, 1, 1, 1, 1, 0, 1]\n",
      "\n",
      "initial conditions: [0, 0, 0, 1, 0, 0, 0, 1, 0] [0, 0, 0, 1, 0, 0, 0, 1, 0] 19 19\n",
      "\n",
      "Final number of solutions checked:  5\n",
      "Best value found:  65\n",
      "Weight is:  65\n",
      "Total number of items selected:  6\n",
      "Best solution:  [1, 1, 0, 1, 1, 0, 0, 1, 1]\n",
      "\n",
      "initial conditions: [0, 0, 0, 1, 0, 0, 0, 0, 1] [0, 0, 0, 1, 0, 0, 0, 0, 1] 25 25\n",
      "\n",
      "Final number of solutions checked:  6\n",
      "Best value found:  74\n",
      "Weight is:  74\n",
      "Total number of items selected:  7\n",
      "Best solution:  [1, 1, 0, 1, 1, 1, 1, 0, 1]\n",
      "\n",
      "initial conditions: [0, 0, 0, 0, 1, 1, 0, 0, 0] [0, 0, 0, 0, 1, 1, 0, 0, 0] 24 24\n",
      "\n",
      "Final number of solutions checked:  6\n",
      "Best value found:  74\n",
      "Weight is:  74\n",
      "Total number of items selected:  7\n",
      "Best solution:  [1, 1, 0, 1, 1, 1, 1, 0, 1]\n",
      "\n",
      "initial conditions: [0, 0, 0, 0, 1, 0, 1, 0, 0] [0, 0, 0, 0, 1, 0, 1, 0, 0] 20 20\n",
      "\n",
      "Final number of solutions checked:  6\n",
      "Best value found:  74\n",
      "Weight is:  74\n",
      "Total number of items selected:  7\n",
      "Best solution:  [1, 1, 0, 1, 1, 1, 1, 0, 1]\n",
      "\n",
      "initial conditions: [0, 0, 0, 0, 1, 0, 0, 1, 0] [0, 0, 0, 0, 1, 0, 0, 1, 0] 21 21\n",
      "\n",
      "Final number of solutions checked:  5\n",
      "Best value found:  65\n",
      "Weight is:  65\n",
      "Total number of items selected:  6\n",
      "Best solution:  [1, 1, 0, 1, 1, 0, 0, 1, 1]\n",
      "\n",
      "initial conditions: [0, 0, 0, 0, 1, 0, 0, 0, 1] [0, 0, 0, 0, 1, 0, 0, 0, 1] 27 27\n",
      "\n",
      "Final number of solutions checked:  6\n",
      "Best value found:  74\n",
      "Weight is:  74\n",
      "Total number of items selected:  7\n",
      "Best solution:  [1, 1, 0, 1, 1, 1, 1, 0, 1]\n",
      "\n",
      "initial conditions: [0, 0, 0, 0, 0, 1, 1, 0, 0] [0, 0, 0, 0, 0, 1, 1, 0, 0] 16 16\n",
      "\n",
      "Final number of solutions checked:  6\n",
      "Best value found:  74\n",
      "Weight is:  74\n",
      "Total number of items selected:  7\n",
      "Best solution:  [1, 1, 0, 1, 1, 1, 1, 0, 1]\n",
      "\n",
      "initial conditions: [0, 0, 0, 0, 0, 1, 0, 1, 0] [0, 0, 0, 0, 0, 1, 0, 1, 0] 17 17\n",
      "\n",
      "Final number of solutions checked:  4\n",
      "Best value found:  52\n",
      "Weight is:  52\n",
      "Total number of items selected:  5\n",
      "Best solution:  [1, 0, 0, 0, 1, 1, 0, 1, 1]\n",
      "\n",
      "initial conditions: [0, 0, 0, 0, 0, 1, 0, 0, 1] [0, 0, 0, 0, 0, 1, 0, 0, 1] 23 23\n",
      "\n",
      "Final number of solutions checked:  6\n",
      "Best value found:  74\n",
      "Weight is:  74\n",
      "Total number of items selected:  7\n",
      "Best solution:  [1, 1, 0, 1, 1, 1, 1, 0, 1]\n",
      "\n",
      "initial conditions: [0, 0, 0, 0, 0, 0, 1, 1, 0] [0, 0, 0, 0, 0, 0, 1, 1, 0] 13 13\n",
      "\n",
      "Final number of solutions checked:  5\n",
      "Best value found:  63\n",
      "Weight is:  63\n",
      "Total number of items selected:  6\n",
      "Best solution:  [0, 1, 0, 1, 1, 0, 1, 1, 1]\n",
      "\n",
      "initial conditions: [0, 0, 0, 0, 0, 0, 1, 0, 1] [0, 0, 0, 0, 0, 0, 1, 0, 1] 19 19\n",
      "\n",
      "Final number of solutions checked:  6\n",
      "Best value found:  74\n",
      "Weight is:  74\n",
      "Total number of items selected:  7\n",
      "Best solution:  [1, 1, 0, 1, 1, 1, 1, 0, 1]\n",
      "\n",
      "initial conditions: [0, 0, 0, 0, 0, 0, 0, 1, 1] [0, 0, 0, 0, 0, 0, 0, 1, 1] 20 20\n",
      "\n",
      "Final number of solutions checked:  5\n",
      "Best value found:  65\n",
      "Weight is:  65\n",
      "Total number of items selected:  6\n",
      "Best solution:  [1, 1, 0, 1, 1, 0, 0, 1, 1]\n"
     ]
    }
   ],
   "source": [
    "O = []\n",
    "walk = []\n",
    "\n",
    "for i in range(len(U)):  #This loops the algorithm through multiple start points of the solutions in U \n",
    "    \n",
    "    x_current = U[i]                  #The current solution of the iteration\n",
    "    x_best = x_current                #The best solution\n",
    "    f_current = evaluate(x_current)   #The value of the current soluton of the iteration\n",
    "    f_best = f_current                #The value of the best solution\n",
    "\n",
    "    print('\\ninitial conditions:', x_current, x_best, f_current, f_best)\n",
    "    \n",
    "    done = 0\n",
    "    solutionsChecked = 0      #varaible to record the number of solutions evaluated in each iteration\n",
    "\n",
    "    while done == 0:\n",
    "\n",
    "        solutionsChecked = solutionsChecked + 1\n",
    "\n",
    "        Neighborhood = neighborhood(x_current)   #create a list of all neighbors in the neighborhood of x_curr\n",
    "\n",
    "        z = []\n",
    "        for i in range(n):\n",
    "            ans = evaluate(Neighborhood[i])      #evaluate and return the objective function for each of the neighbours\n",
    "            z.append(ans)\n",
    "            \n",
    "        for i in range(n):\n",
    "\n",
    "            if(z[i] == 'infeasible'):\n",
    "                x_best = x_best\n",
    "\n",
    "            elif(z[i] > f_best):\n",
    "                x_best = Neighborhood[i]\n",
    "                f_best = evaluate(Neighborhood[i])\n",
    "\n",
    "        if f_best == f_current:         #if there were no improving solutions in the neighborhood\n",
    "            done = done + 1\n",
    "            O.append(x_best)\n",
    "            \n",
    "        else:\n",
    "            x_current = x_best         #else: move to the neighbor solution and continue\n",
    "            f_current = f_best  \n",
    "            \n",
    "    walk.append(solutionsChecked)\n",
    "    print (\"\\nFinal number of solutions checked: \", solutionsChecked)\n",
    "    print (\"Best value found: \", f_best)\n",
    "    print (\"Weight is: \", f_best)\n",
    "    print (\"Total number of items selected: \", np.sum(x_best))\n",
    "    print (\"Best solution: \", x_best)"
   ]
  },
  {
   "cell_type": "code",
   "execution_count": 573,
   "metadata": {},
   "outputs": [
    {
     "data": {
      "text/plain": [
       "[[1, 1, 0, 1, 1, 1, 1, 0, 1],\n",
       " [1, 1, 1, 1, 1, 0, 1, 0, 1],\n",
       " [1, 1, 0, 1, 1, 1, 1, 0, 1],\n",
       " [1, 1, 0, 1, 1, 1, 1, 0, 1],\n",
       " [1, 1, 0, 1, 1, 1, 1, 0, 1],\n",
       " [1, 1, 0, 1, 1, 1, 1, 0, 1],\n",
       " [1, 1, 0, 1, 1, 0, 0, 1, 1],\n",
       " [1, 1, 0, 1, 1, 1, 1, 0, 1],\n",
       " [1, 1, 1, 1, 1, 0, 1, 0, 1],\n",
       " [1, 1, 0, 1, 1, 1, 1, 0, 1],\n",
       " [1, 1, 0, 1, 1, 1, 1, 0, 1],\n",
       " [1, 1, 0, 1, 1, 1, 1, 0, 1],\n",
       " [1, 1, 0, 1, 1, 1, 1, 0, 1],\n",
       " [1, 1, 0, 1, 1, 0, 0, 1, 1],\n",
       " [1, 1, 0, 1, 1, 1, 1, 0, 1],\n",
       " [1, 1, 1, 1, 1, 0, 1, 0, 1],\n",
       " [1, 1, 1, 1, 1, 0, 1, 0, 1],\n",
       " [1, 0, 1, 1, 1, 1, 0, 0, 1],\n",
       " [1, 1, 1, 1, 1, 0, 1, 0, 1],\n",
       " [0, 0, 1, 1, 1, 0, 0, 1, 1],\n",
       " [1, 1, 1, 1, 1, 0, 1, 0, 1],\n",
       " [1, 1, 0, 1, 1, 1, 1, 0, 1],\n",
       " [1, 1, 0, 1, 1, 1, 1, 0, 1],\n",
       " [1, 1, 0, 1, 1, 1, 1, 0, 1],\n",
       " [1, 1, 0, 1, 1, 0, 0, 1, 1],\n",
       " [1, 1, 0, 1, 1, 1, 1, 0, 1],\n",
       " [1, 1, 0, 1, 1, 1, 1, 0, 1],\n",
       " [1, 1, 0, 1, 1, 1, 1, 0, 1],\n",
       " [1, 1, 0, 1, 1, 0, 0, 1, 1],\n",
       " [1, 1, 0, 1, 1, 1, 1, 0, 1],\n",
       " [1, 1, 0, 1, 1, 1, 1, 0, 1],\n",
       " [1, 0, 0, 0, 1, 1, 0, 1, 1],\n",
       " [1, 1, 0, 1, 1, 1, 1, 0, 1],\n",
       " [0, 1, 0, 1, 1, 0, 1, 1, 1],\n",
       " [1, 1, 0, 1, 1, 1, 1, 0, 1],\n",
       " [1, 1, 0, 1, 1, 0, 0, 1, 1]]"
      ]
     },
     "execution_count": 573,
     "metadata": {},
     "output_type": "execute_result"
    }
   ],
   "source": [
    "O"
   ]
  },
  {
   "cell_type": "code",
   "execution_count": 574,
   "metadata": {},
   "outputs": [],
   "source": [
    "Objective_function_U = []\n",
    "\n",
    "for i in range(len(U)):\n",
    "\n",
    "    feasable = evaluate(U[i])\n",
    "    Objective_function_U.append(feasable)\n",
    "    \n",
    "#print(Objective_function_U)\n",
    "\n",
    "Objective_function_O = []\n",
    "\n",
    "for i in range(len(O)):\n",
    "\n",
    "    feasable = evaluate(O[i])\n",
    "    Objective_function_O.append(feasable)\n",
    "    \n",
    "#print(Objective_function_O)"
   ]
  },
  {
   "cell_type": "code",
   "execution_count": 575,
   "metadata": {},
   "outputs": [],
   "source": [
    "cardinality_O = []\n",
    "\n",
    "count = 0\n",
    "for i in O:\n",
    "    if i not in cardinality_O:\n",
    "        count += 1\n",
    "        cardinality_O.append(i)\n",
    "        \n",
    "#print(cardinality_O)\n",
    "\n",
    "cardinality_U = []\n",
    "\n",
    "count = 0\n",
    "for i in U:\n",
    "    if i not in cardinality_U:\n",
    "        count += 1\n",
    "        cardinality_U.append(i)\n",
    "        \n",
    "#print(cardinality_U)"
   ]
  },
  {
   "cell_type": "code",
   "execution_count": 576,
   "metadata": {},
   "outputs": [],
   "source": [
    "Amp_U = (cardinality.count(cardinality_U)*(np.max(Objective_function_U)-np.min(Objective_function_U)))/sum(Objective_function_U)"
   ]
  },
  {
   "cell_type": "code",
   "execution_count": 577,
   "metadata": {},
   "outputs": [],
   "source": [
    "Amp_O = (cardinality.count(cardinality_O)*(np.max(Objective_function_O)-np.min(Objective_function_O)))/sum(Objective_function_O)"
   ]
  },
  {
   "cell_type": "code",
   "execution_count": 578,
   "metadata": {},
   "outputs": [],
   "source": [
    "ΔAmp = (Amp_U - Amp_O)/Amp_U"
   ]
  },
  {
   "cell_type": "code",
   "execution_count": 579,
   "metadata": {},
   "outputs": [
    {
     "name": "stdout",
     "output_type": "stream",
     "text": [
      "-111\n",
      "518\n"
     ]
    },
    {
     "data": {
      "text/plain": [
       "-0.21428571428571427"
      ]
     },
     "execution_count": 579,
     "metadata": {},
     "output_type": "execute_result"
    }
   ],
   "source": [
    "f_star = 74\n",
    "\n",
    "gaps = []\n",
    "\n",
    "for i in range(len(O)):\n",
    "    gap = Objective_function_O[i] - f_star\n",
    "    gaps.append(gap)\n",
    "    \n",
    "gap_O = sum(gaps)/ (cardinality.count(cardinality_O)*f_star)\n",
    "print(sum(gaps))\n",
    "print((cardinality.count(cardinality_O)*f_star))\n",
    "gap_O"
   ]
  },
  {
   "cell_type": "code",
   "execution_count": 580,
   "metadata": {},
   "outputs": [
    {
     "name": "stdout",
     "output_type": "stream",
     "text": [
      "[6, 6, 6, 6, 6, 6, 5, 6, 6, 6, 6, 6, 6, 5, 6, 6, 6, 5, 6, 4, 6, 6, 6, 6, 5, 6, 6, 6, 5, 6, 6, 4, 6, 5, 6, 5]\n",
      "205\n"
     ]
    },
    {
     "data": {
      "text/plain": [
       "5.694444444444445"
      ]
     },
     "execution_count": 580,
     "metadata": {},
     "output_type": "execute_result"
    }
   ],
   "source": [
    "print(walk)\n",
    "\n",
    "LLM = sum(walk)/cardinality.count(cardinality_U)\n",
    "print(sum(walk))\n",
    "LLM"
   ]
  },
  {
   "cell_type": "code",
   "execution_count": 581,
   "metadata": {},
   "outputs": [
    {
     "name": "stdout",
     "output_type": "stream",
     "text": [
      "-1944\n",
      "2664\n"
     ]
    },
    {
     "data": {
      "text/plain": [
       "-0.7297297297297297"
      ]
     },
     "execution_count": 581,
     "metadata": {},
     "output_type": "execute_result"
    }
   ],
   "source": [
    "f_star = 74\n",
    "\n",
    "gaps = []\n",
    "\n",
    "for i in range(len(U)):\n",
    "    gap = Objective_function_U[i] - f_star\n",
    "    gaps.append(gap)\n",
    "    \n",
    "gap_U = sum(gaps)/ (cardinality.count(cardinality_U)*f_star)\n",
    "print(sum(gaps))\n",
    "print((cardinality.count(cardinality_U)*f_star))\n",
    "gap_U"
   ]
  },
  {
   "cell_type": "code",
   "execution_count": null,
   "metadata": {},
   "outputs": [],
   "source": []
  },
  {
   "cell_type": "code",
   "execution_count": null,
   "metadata": {},
   "outputs": [],
   "source": []
  }
 ],
 "metadata": {
  "kernelspec": {
   "display_name": "Python 3",
   "language": "python",
   "name": "python3"
  },
  "language_info": {
   "codemirror_mode": {
    "name": "ipython",
    "version": 3
   },
   "file_extension": ".py",
   "mimetype": "text/x-python",
   "name": "python",
   "nbconvert_exporter": "python",
   "pygments_lexer": "ipython3",
   "version": "3.7.4"
  }
 },
 "nbformat": 4,
 "nbformat_minor": 2
}
