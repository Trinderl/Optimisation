{
 "cells": [
  {
   "cell_type": "markdown",
   "metadata": {},
   "source": [
    "# Import libraries"
   ]
  },
  {
   "cell_type": "code",
   "execution_count": 23,
   "metadata": {},
   "outputs": [],
   "source": [
    "import numpy as np\n",
    "import random\n",
    "import operator\n",
    "import pandas as pd\n",
    "import matplotlib.pyplot as plt\n",
    "import scipy.stats"
   ]
  },
  {
   "cell_type": "markdown",
   "metadata": {},
   "source": [
    "# Parameters"
   ]
  },
  {
   "cell_type": "code",
   "execution_count": 24,
   "metadata": {},
   "outputs": [],
   "source": [
    "Distance = [[0, 32, 39, 42, 29, 35],\n",
    "           [32, 0, 36, 27, 41, 25], \n",
    "           [39, 36, 0, 28, 33, 40], \n",
    "           [42, 27, 28, 0, 27, 38],\n",
    "           [29, 41, 33, 27, 0, 26],\n",
    "           [35, 25, 40, 38, 26, 0]]  #distance matrix between the cities\n",
    "\n",
    "n = 6            #number of cities visited\n",
    "p = 8            #number of candidate solutions in the population\n",
    "par = 6          #number of parents used in the generation step\n",
    "k = 3            #tournament size"
   ]
  },
  {
   "cell_type": "markdown",
   "metadata": {},
   "source": [
    "# Initial population"
   ]
  },
  {
   "cell_type": "code",
   "execution_count": 25,
   "metadata": {},
   "outputs": [
    {
     "name": "stdout",
     "output_type": "stream",
     "text": [
      "[[4, 3, 6, 1, 5, 2], [1, 6, 3, 5, 2, 4], [1, 6, 3, 2, 4, 5], [6, 2, 1, 3, 4, 5], [6, 1, 2, 4, 5, 3], [1, 5, 4, 6, 3, 2], [2, 1, 4, 5, 6, 3], [3, 1, 6, 4, 2, 5]]\n"
     ]
    }
   ],
   "source": [
    "initial = [1, 2, 3, 4, 5, 6]  #these are all the possible cities that can be visited (the order must be randomised)\n",
    "initial_population = []\n",
    "\n",
    "for i in range(p):\n",
    "    solution = initial.copy()\n",
    "    random.shuffle(solution)   #the order of the possible cities is randomised to generate an initial population\n",
    "    initial_population.append(solution)\n",
    "\n",
    "print(initial_population)"
   ]
  },
  {
   "cell_type": "markdown",
   "metadata": {},
   "source": [
    "# Model"
   ]
  },
  {
   "cell_type": "markdown",
   "metadata": {},
   "source": [
    "## Fitness (For the TSP problem this is minimising the distance)"
   ]
  },
  {
   "cell_type": "markdown",
   "metadata": {},
   "source": [
    "Objective function is not the fitness function - it is a minimisation problem"
   ]
  },
  {
   "cell_type": "code",
   "execution_count": 26,
   "metadata": {},
   "outputs": [],
   "source": [
    "def distance(population):    #The distance between the cities is the objective function\n",
    "    \n",
    "    for i in range(len(population)):\n",
    "        \n",
    "        distance = []\n",
    "\n",
    "        for i in range(len(population)-1): \n",
    "            \n",
    "            #The distance is the difference between points (it returns one less than the number of cities)\n",
    "\n",
    "            a = population[i]        #The first city \n",
    "            b = population[i+1]      #The second city\n",
    "\n",
    "            dist = Distance[a-1][b-1]   #The point on the distance matrix of the first and secod cities\n",
    "            distance.append(dist)\n",
    "\n",
    "\n",
    "        a = population[0]            #The first city in the whole solution\n",
    "        b = population[n - 1]        #The last city in the whole solution\n",
    "\n",
    "        dist = Distance[a-1][b-1]    #The distance between the first and last city (closing the loop)\n",
    "\n",
    "        distance.append(dist)\n",
    "        total_distance = sum(distance)   #The sum of distances between all of the cities\n",
    "    \n",
    "    return total_distance"
   ]
  },
  {
   "cell_type": "code",
   "execution_count": 27,
   "metadata": {},
   "outputs": [
    {
     "name": "stdout",
     "output_type": "stream",
     "text": [
      "[4, 3, 6, 1, 5, 2]\n"
     ]
    },
    {
     "data": {
      "text/plain": [
       "200"
      ]
     },
     "execution_count": 27,
     "metadata": {},
     "output_type": "execute_result"
    }
   ],
   "source": [
    "print(initial_population[0])\n",
    "distance(initial_population[0])"
   ]
  },
  {
   "cell_type": "code",
   "execution_count": 28,
   "metadata": {},
   "outputs": [],
   "source": [
    "def fitness(population):    #The fitness of the solution is not equal to the objective function of a minimisation problem\n",
    "    \n",
    "    fitness = []\n",
    "    \n",
    "    for i in range(len(population)):\n",
    "        \n",
    "        dist = distance(population[i])\n",
    "        inverse = 1/dist                    \n",
    "        \n",
    "        #The TSP is a minimisation problem therefore the inverse needs to be used to get the highest fitness value for a minimum\n",
    "        \n",
    "        fitness.append(inverse*10000)  #The inverse is mulitplied by a chosen number to get a more usable value\n",
    "        \n",
    "    return fitness"
   ]
  },
  {
   "cell_type": "code",
   "execution_count": 29,
   "metadata": {},
   "outputs": [
    {
     "data": {
      "text/plain": [
       "[50.0,\n",
       " 45.87155963302752,\n",
       " 51.54639175257732,\n",
       " 56.497175141242934,\n",
       " 51.54639175257732,\n",
       " 49.504950495049506,\n",
       " 49.26108374384236,\n",
       " 46.948356807511736]"
      ]
     },
     "execution_count": 29,
     "metadata": {},
     "output_type": "execute_result"
    }
   ],
   "source": [
    "#print(initial_population[0])\n",
    "fitness(initial_population)"
   ]
  },
  {
   "cell_type": "markdown",
   "metadata": {},
   "source": [
    "# Best initial conditions"
   ]
  },
  {
   "cell_type": "code",
   "execution_count": 30,
   "metadata": {},
   "outputs": [
    {
     "name": "stdout",
     "output_type": "stream",
     "text": [
      "[4, 3, 6, 1, 5, 2]\n",
      "200\n",
      "[6, 2, 1, 3, 4, 5]\n",
      "177\n",
      "[200, 218, 194, 177, 194, 202, 203, 213]\n"
     ]
    }
   ],
   "source": [
    "best_route = initial_population[0]\n",
    "best_distance = distance(best_route)\n",
    "\n",
    "print(best_route)   \n",
    "print(best_distance)\n",
    "\n",
    "initial_distance = []\n",
    "\n",
    "for i in range(p):\n",
    "    dist = distance(initial_population[i])\n",
    "    initial_distance.append(dist)\n",
    "    \n",
    "    if dist < best_distance:\n",
    "        best_distance = dist\n",
    "        best_route = initial_population[i]\n",
    "        \n",
    "print(best_route)   \n",
    "print(best_distance)\n",
    "print(initial_distance)"
   ]
  },
  {
   "cell_type": "markdown",
   "metadata": {},
   "source": [
    "# Probabilities based on fitness"
   ]
  },
  {
   "cell_type": "code",
   "execution_count": 31,
   "metadata": {},
   "outputs": [],
   "source": [
    "def probability(population):   #The probability of a solution being selected depends on the relative fitness of the solution\n",
    "\n",
    "    probability = []\n",
    "    \n",
    "    fit = fitness(population)\n",
    "    \n",
    "    total = sum(fit)                      #The total fitness of the population is calculated\n",
    "\n",
    "    probability = np.array(fit) / total     \n",
    "    \n",
    "    #The probability is calculated as the fitness of the solution relative to the total fitness of the population\n",
    "    \n",
    "    return probability"
   ]
  },
  {
   "cell_type": "code",
   "execution_count": 32,
   "metadata": {},
   "outputs": [
    {
     "data": {
      "text/plain": [
       "array([0.12463361, 0.11434276, 0.12848825, 0.14082893, 0.12848825,\n",
       "       0.12339961, 0.12279173, 0.11702686])"
      ]
     },
     "execution_count": 32,
     "metadata": {},
     "output_type": "execute_result"
    }
   ],
   "source": [
    "probability(initial_population)"
   ]
  },
  {
   "cell_type": "markdown",
   "metadata": {},
   "source": [
    "# Tournament selection"
   ]
  },
  {
   "cell_type": "code",
   "execution_count": 33,
   "metadata": {},
   "outputs": [],
   "source": [
    "def tournament(population):\n",
    "\n",
    "    parents = []\n",
    "\n",
    "    pop = [0, 1, 2, 3, 4, 5, 6, 7]  #These are the references of the solutions in the population\n",
    "\n",
    "    for i in range(6):   #only 6 parents can be chosen based on the tournament size\n",
    "        \n",
    "        populate = []\n",
    "        \n",
    "        for i in range(len(pop)):\n",
    "            \n",
    "            index = pop[i]\n",
    "            populate.append(population[index])\n",
    "        \n",
    "        prob = probability(populate)    #The probability of the remaining solutions are calculated as solutions are removed\n",
    "\n",
    "        choice = np.random.choice(pop, 3, replace=False, p = prob)   \n",
    "        \n",
    "        #3 unique values are chosen from the possible solutions in the population based on probabilities\n",
    "\n",
    "        tournament_dist = 600   #This is a random value used as a starting point\n",
    "\n",
    "        for i in range(3):\n",
    "\n",
    "            dist = distance(population[choice[i]])\n",
    "\n",
    "            if dist < tournament_dist:    #This ensures that the smallest distance is the winning distance\n",
    "                tournament_dist = dist\n",
    "                tournament_choice = population[choice[i]]\n",
    "                winner = choice[i]\n",
    "\n",
    "        parents.append(population[winner])  #The smallest distance of the chosen 3 is the winner and becomes a parent\n",
    "\n",
    "        pop.remove(winner)  \n",
    "        \n",
    "#The solution has been chosen as a parent and needs to be removed so that a new solution can be chosen as a different parent\n",
    "\n",
    "    return parents    #a list of the 6 parents are chosen"
   ]
  },
  {
   "cell_type": "code",
   "execution_count": 34,
   "metadata": {},
   "outputs": [
    {
     "name": "stdout",
     "output_type": "stream",
     "text": [
      "[[4, 3, 6, 1, 5, 2], [1, 6, 3, 5, 2, 4], [1, 6, 3, 2, 4, 5], [6, 2, 1, 3, 4, 5], [6, 1, 2, 4, 5, 3], [1, 5, 4, 6, 3, 2], [2, 1, 4, 5, 6, 3], [3, 1, 6, 4, 2, 5]]\n",
      "[[6, 1, 2, 4, 5, 3], [1, 6, 3, 2, 4, 5], [6, 2, 1, 3, 4, 5], [4, 3, 6, 1, 5, 2], [2, 1, 4, 5, 6, 3], [1, 5, 4, 6, 3, 2]]\n"
     ]
    }
   ],
   "source": [
    "print(initial_population)\n",
    "par = tournament(initial_population)\n",
    "print(par)"
   ]
  },
  {
   "cell_type": "markdown",
   "metadata": {},
   "source": [
    "# Crossover operator (2-point crossover)"
   ]
  },
  {
   "cell_type": "code",
   "execution_count": 35,
   "metadata": {},
   "outputs": [],
   "source": [
    "def breed(parents):\n",
    "\n",
    "    geneA = int(random.random() * (len(parents[0])-1))  #the minus 1 ensures that there is at least one split in the gene\n",
    "    geneB = int(random.random() * (len(parents[0])-1))  #This returns a random index value in the solution\n",
    "    \n",
    "    startGene = min(geneA, geneB)       #The staring point needs to be the smaller index value\n",
    "    endGene = max(geneA, geneB)         #The ending point needs to be the larger index value\n",
    "    \n",
    "    par = [0, 1, 2, 3, 4, 5]\n",
    "    children = []\n",
    "\n",
    "    for i in range(3):\n",
    "        child1 = [0, 0, 0, 0, 0, 0]\n",
    "        child2 = [0, 0, 0, 0, 0, 0]\n",
    "        childP12 = []\n",
    "        childP22 = []\n",
    "\n",
    "        parent = np.random.choice(par, 2, replace=False)   #randomly choose two parents to mate from the list of parents\n",
    "        parent1 = parents[parent[0]]\n",
    "        parent2 = parents[parent[1]]\n",
    "        \n",
    "        for i in range(startGene, endGene):  #The portion of parent 1 that will be in child 1 inbetween the splits\n",
    "            child1[i] = parent1[i]\n",
    "        for i in range(startGene, endGene):  #The portion of parent 2 that will be in child 2 inbetween the splits\n",
    "            child2[i] = parent2[i] \n",
    "        for i in range(len(child1)):\n",
    "            if child1[i] == 0:\n",
    "                childP12 = [item for item in parent2 if item not in child1]#The genes from parent 2 that are not in child 1 yet\n",
    "                child1[i] = childP12[0]\n",
    "        for i in range(len(child2)):\n",
    "            if child2[i] == 0:\n",
    "                childP22 = [item for item in parent1 if item not in child2]#The genes from parent 1 that are not in child 2 yet\n",
    "                child2[i] = childP22[0]\n",
    "                \n",
    "        par.remove(parent[0])         #remove the parents from the list after they have mated so that there is no repeat\n",
    "        par.remove(parent[1])\n",
    "        \n",
    "        children.append(child1)\n",
    "        children.append(child2)\n",
    "\n",
    "    print([startGene, endGene])\n",
    "\n",
    "    return children"
   ]
  },
  {
   "cell_type": "code",
   "execution_count": 36,
   "metadata": {},
   "outputs": [
    {
     "name": "stdout",
     "output_type": "stream",
     "text": [
      "[4, 4]\n",
      "[[1, 6, 3, 5, 2, 4], [1, 6, 3, 2, 4, 5], [6, 2, 1, 3, 4, 5], [4, 3, 6, 1, 5, 2], [1, 5, 4, 6, 3, 2], [6, 1, 2, 4, 5, 3]]\n"
     ]
    }
   ],
   "source": [
    "#print(par[0], par[1])\n",
    "\n",
    "print(breed(initial_population))"
   ]
  },
  {
   "cell_type": "markdown",
   "metadata": {},
   "source": [
    "# Mutation"
   ]
  },
  {
   "cell_type": "code",
   "execution_count": 37,
   "metadata": {},
   "outputs": [],
   "source": [
    "def mutation(child):\n",
    "    \n",
    "    selected = int(random.random() * (len(child)))  #A random child is selected from the list of children\n",
    "    \n",
    "    Swap1 = int(random.random() * (len(child[selected])))  #A gene is chosen at random to be swapped\n",
    "    Swap2 = int(random.random() * (len(child[selected])))  #A gene is chosen at random to be swapped with\n",
    "    \n",
    "    swap = child[selected]\n",
    "    \n",
    "    Gene1 = swap[Swap1]\n",
    "    Gene2 = swap[Swap2]\n",
    "    \n",
    "    swap[Swap1] = Gene2  #The two selected genes are swapped\n",
    "    swap[Swap2] = Gene1\n",
    "    \n",
    "    print([Swap1, Swap2])\n",
    "    return selected, swap  #The index of the selected child and the new child with the mutation is returned"
   ]
  },
  {
   "cell_type": "code",
   "execution_count": 38,
   "metadata": {},
   "outputs": [
    {
     "name": "stdout",
     "output_type": "stream",
     "text": [
      "[[4, 3, 6, 1, 5, 2], [1, 6, 3, 5, 2, 4], [1, 6, 3, 2, 4, 5], [6, 2, 1, 3, 4, 5], [6, 1, 2, 4, 5, 3], [1, 5, 4, 6, 3, 2], [2, 1, 4, 5, 6, 3], [3, 1, 6, 4, 2, 5]]\n",
      "[5, 3]\n",
      "(3, [6, 2, 1, 5, 4, 3])\n"
     ]
    }
   ],
   "source": [
    "print(initial_population)\n",
    "mute = mutation(initial_population)\n",
    "print(mute)"
   ]
  },
  {
   "cell_type": "code",
   "execution_count": 39,
   "metadata": {},
   "outputs": [
    {
     "name": "stdout",
     "output_type": "stream",
     "text": [
      "[[4, 3, 6, 1, 5, 2], [1, 6, 3, 5, 2, 4], [1, 6, 3, 2, 4, 5], [6, 2, 1, 5, 4, 3], [6, 1, 2, 4, 5, 3], [1, 5, 4, 6, 3, 2], [2, 1, 4, 5, 6, 3], [3, 1, 6, 4, 2, 5]]\n",
      "[[4, 3, 6, 1, 5, 2], [1, 6, 3, 5, 2, 4], [1, 6, 3, 2, 4, 5], [6, 1, 2, 4, 5, 3], [1, 5, 4, 6, 3, 2], [2, 1, 4, 5, 6, 3], [3, 1, 6, 4, 2, 5], [6, 2, 1, 5, 4, 3]]\n"
     ]
    }
   ],
   "source": [
    "print(initial_population)\n",
    "initial_population.remove(initial_population[mute[0]])\n",
    "initial_population.append(mute[1])\n",
    "print(initial_population)"
   ]
  },
  {
   "cell_type": "markdown",
   "metadata": {},
   "source": [
    "# Replacement (Elitism)"
   ]
  },
  {
   "cell_type": "code",
   "execution_count": 40,
   "metadata": {},
   "outputs": [],
   "source": [
    "def elitism(population):\n",
    "    \n",
    "    fit = fitness(population)           #The fitness of all the solution in the population is calculated\n",
    "    \n",
    "    new = []\n",
    "    i = 0\n",
    "\n",
    "    while len(new) <= 8:          #This is to ensure that the top 8 fittest solutions are returned\n",
    "\n",
    "        max = np.max(fit)         #The maximum fitness in the population set is found\n",
    "        conditon = (fit == max)\n",
    "        result = np.where(conditon)[0]   #The index value of the maximum fitness is found\n",
    "\n",
    "        if len(result) > 1:              #if there are multiple solutions with the same fitness\n",
    "\n",
    "            for i in range(len(result)):\n",
    "                \n",
    "                if i == 0:\n",
    "                    new.append(population[result[i]])     #add the solution to the new population\n",
    "                    fit.remove(fit[result[i]])            #remove the solution from the list of options\n",
    "                    population.remove(population[result[i]])\n",
    "                \n",
    "                else:\n",
    "                    result = result - 1                \n",
    "                    new.append(population[result[i]])  \n",
    "                    fit.remove(fit[result[i]])\n",
    "                    population.remove(population[result[i]])\n",
    "\n",
    "        else:\n",
    "            new.append(population[result[0]])             #add the solution to the new population\n",
    "            fit.remove(fit[result[0]])                    #remove the solution from the list of option\n",
    "            population.remove(population[result[0]])\n",
    "\n",
    "    return new[:8]      #return the 8 solutions with the highest fitness values"
   ]
  },
  {
   "cell_type": "code",
   "execution_count": 41,
   "metadata": {},
   "outputs": [
    {
     "data": {
      "text/plain": [
       "[[6, 2, 1, 5, 4, 3],\n",
       " [6, 2, 1, 5, 4, 3],\n",
       " [1, 6, 3, 2, 4, 5],\n",
       " [6, 1, 2, 4, 5, 3],\n",
       " [1, 6, 3, 2, 4, 5],\n",
       " [6, 1, 2, 4, 5, 3],\n",
       " [4, 3, 6, 1, 5, 2],\n",
       " [4, 3, 6, 1, 5, 2]]"
      ]
     },
     "execution_count": 41,
     "metadata": {},
     "output_type": "execute_result"
    }
   ],
   "source": [
    "population = initial_population + initial_population\n",
    "elitism(population)"
   ]
  },
  {
   "cell_type": "markdown",
   "metadata": {},
   "source": [
    "# Best solution"
   ]
  },
  {
   "cell_type": "code",
   "execution_count": 42,
   "metadata": {},
   "outputs": [
    {
     "name": "stdout",
     "output_type": "stream",
     "text": [
      "[6, 2, 1, 5, 4, 3]\n",
      "177\n",
      "[200, 218, 194, 194, 202, 203, 213, 181]\n"
     ]
    }
   ],
   "source": [
    "initial_distance = []   #find the initial distances of the initial population\n",
    "\n",
    "for i in range(p):\n",
    "    dist = distance(initial_population[i])\n",
    "    initial_distance.append(dist)\n",
    "    \n",
    "    if dist < best_distance:\n",
    "        best_distance = dist                   #Find the shortest distance from the initial population\n",
    "        best_route = initial_population[i]     #Find the route that corresponds to the shortest distance\n",
    "        \n",
    "print(best_route)   \n",
    "print(best_distance)\n",
    "print(initial_distance)"
   ]
  },
  {
   "cell_type": "markdown",
   "metadata": {},
   "source": [
    "# Genetic Algorithm"
   ]
  },
  {
   "cell_type": "code",
   "execution_count": 43,
   "metadata": {},
   "outputs": [
    {
     "name": "stdout",
     "output_type": "stream",
     "text": [
      "0\n",
      "[[4, 3, 6, 1, 5, 2], [1, 6, 3, 5, 2, 4], [1, 6, 3, 2, 4, 5], [6, 1, 2, 4, 5, 3], [1, 5, 4, 6, 3, 2], [2, 1, 4, 5, 6, 3], [3, 1, 6, 4, 2, 5], [6, 2, 1, 5, 4, 3]]\n",
      "[200, 218, 194, 194, 202, 203, 213, 181]\n",
      "[50.0, 45.87155963302752, 51.54639175257732, 51.54639175257732, 49.504950495049506, 49.26108374384236, 46.948356807511736, 55.248618784530386]\n",
      "[[4, 3, 6, 1, 5, 2], [6, 1, 2, 4, 5, 3], [6, 2, 1, 5, 4, 3], [1, 5, 4, 6, 3, 2], [1, 6, 3, 2, 4, 5], [2, 1, 4, 5, 6, 3]]\n",
      "[3, 4]\n",
      "[[6, 2, 1, 4, 5, 3], [6, 1, 2, 5, 4, 3], [1, 4, 5, 2, 6, 3], [1, 6, 3, 5, 2, 4], [4, 3, 1, 6, 5, 2], [5, 4, 6, 1, 3, 2]]\n",
      "[0, 3]\n",
      "(2, [2, 4, 5, 1, 6, 3])\n",
      "49.58388205996657\n",
      "51.33305112274803\n",
      "[181, 194, 194, 194, 196, 199, 200, 202]\n",
      "[6, 2, 1, 5, 4, 3]\n",
      "177\n",
      "1\n",
      "[[6, 2, 1, 5, 4, 3], [2, 4, 5, 1, 6, 3], [1, 6, 3, 2, 4, 5], [6, 1, 2, 4, 5, 3], [4, 3, 1, 6, 5, 2], [6, 2, 1, 4, 5, 3], [4, 3, 6, 1, 5, 2], [1, 5, 4, 6, 3, 2]]\n",
      "[181, 194, 194, 194, 196, 199, 200, 202]\n",
      "[55.248618784530386, 51.54639175257732, 51.54639175257732, 51.54639175257732, 51.0204081632653, 50.25125628140704, 50.0, 49.504950495049506]\n",
      "[[6, 2, 1, 5, 4, 3], [2, 4, 5, 1, 6, 3], [6, 1, 2, 4, 5, 3], [1, 6, 3, 2, 4, 5], [4, 3, 1, 6, 5, 2], [6, 2, 1, 4, 5, 3]]\n",
      "[0, 1]\n",
      "[[2, 1, 6, 3, 4, 5], [1, 2, 4, 5, 6, 3], [6, 1, 2, 4, 5, 3], [6, 2, 1, 5, 4, 3], [4, 6, 2, 1, 5, 3], [6, 4, 3, 1, 5, 2]]\n",
      "[5, 4]\n",
      "(1, [1, 2, 4, 5, 3, 6])\n",
      "51.59435350496897\n",
      "52.78540629825018\n",
      "[181, 181, 185, 194, 194, 194, 194, 194]\n",
      "[6, 2, 1, 5, 4, 3]\n",
      "177\n",
      "2\n",
      "[[6, 2, 1, 5, 4, 3], [6, 2, 1, 5, 4, 3], [4, 6, 2, 1, 5, 3], [6, 1, 2, 4, 5, 3], [1, 2, 4, 5, 3, 6], [2, 4, 5, 1, 6, 3], [1, 6, 3, 2, 4, 5], [6, 1, 2, 4, 5, 3]]\n",
      "[181, 181, 185, 194, 194, 194, 194, 194]\n",
      "[55.248618784530386, 55.248618784530386, 54.054054054054056, 51.54639175257732, 51.54639175257732, 51.54639175257732, 51.54639175257732, 51.54639175257732]\n",
      "[[6, 2, 1, 5, 4, 3], [6, 2, 1, 5, 4, 3], [4, 6, 2, 1, 5, 3], [2, 4, 5, 1, 6, 3], [1, 2, 4, 5, 3, 6], [6, 1, 2, 4, 5, 3]]\n",
      "[1, 4]\n",
      "[[2, 4, 5, 1, 3, 6], [1, 2, 4, 5, 6, 3], [6, 2, 1, 5, 4, 3], [6, 2, 1, 5, 4, 3], [6, 1, 2, 4, 5, 3], [4, 6, 2, 1, 5, 3]]\n",
      "[0, 2]\n",
      "(1, [4, 2, 1, 5, 6, 3])\n",
      "53.34299460968752\n",
      "54.6904467525202\n",
      "[181, 181, 181, 181, 182, 185, 185, 187]\n",
      "[6, 2, 1, 5, 4, 3]\n",
      "177\n",
      "3\n",
      "[[6, 2, 1, 5, 4, 3], [6, 2, 1, 5, 4, 3], [6, 2, 1, 5, 4, 3], [6, 2, 1, 5, 4, 3], [4, 2, 1, 5, 6, 3], [4, 6, 2, 1, 5, 3], [4, 6, 2, 1, 5, 3], [2, 4, 5, 1, 3, 6]]\n",
      "[181, 181, 181, 181, 182, 185, 185, 187]\n",
      "[55.248618784530386, 55.248618784530386, 55.248618784530386, 55.248618784530386, 54.94505494505495, 54.054054054054056, 54.054054054054056, 53.475935828877]\n",
      "[[6, 2, 1, 5, 4, 3], [6, 2, 1, 5, 4, 3], [6, 2, 1, 5, 4, 3], [6, 2, 1, 5, 4, 3], [4, 6, 2, 1, 5, 3], [4, 2, 1, 5, 6, 3]]\n",
      "[1, 3]\n",
      "[[6, 2, 1, 5, 4, 3], [6, 2, 1, 5, 4, 3], [1, 6, 2, 5, 4, 3], [4, 2, 1, 6, 5, 3], [6, 2, 1, 5, 4, 3], [4, 2, 1, 5, 6, 3]]\n",
      "[1, 4]\n",
      "(4, [6, 4, 1, 5, 2, 3])\n",
      "53.838880300819895\n",
      "55.21067330459596\n",
      "[181, 181, 181, 181, 181, 181, 181, 182]\n",
      "[6, 2, 1, 5, 4, 3]\n",
      "177\n",
      "4\n",
      "[[6, 2, 1, 5, 4, 3], [6, 2, 1, 5, 4, 3], [4, 2, 1, 6, 5, 3], [6, 2, 1, 5, 4, 3], [6, 2, 1, 5, 4, 3], [6, 2, 1, 5, 4, 3], [6, 2, 1, 5, 4, 3], [4, 2, 1, 5, 6, 3]]\n",
      "[181, 181, 181, 181, 181, 181, 181, 182]\n",
      "[55.248618784530386, 55.248618784530386, 55.248618784530386, 55.248618784530386, 55.248618784530386, 55.248618784530386, 55.248618784530386, 54.94505494505495]\n",
      "[[4, 2, 1, 6, 5, 3], [6, 2, 1, 5, 4, 3], [6, 2, 1, 5, 4, 3], [6, 2, 1, 5, 4, 3], [6, 2, 1, 5, 4, 3], [6, 2, 1, 5, 4, 3]]\n",
      "[3, 3]\n",
      "[[6, 2, 1, 5, 4, 3], [4, 2, 1, 6, 5, 3], [6, 2, 1, 5, 4, 3], [6, 2, 1, 5, 4, 3], [6, 2, 1, 5, 4, 3], [6, 2, 1, 5, 4, 3]]\n",
      "[5, 0]\n",
      "(1, [3, 2, 1, 6, 5, 4])\n",
      "55.1625933175983\n",
      "55.248618784530386\n",
      "[181, 181, 181, 181, 181, 181, 181, 181]\n",
      "[6, 2, 1, 5, 4, 3]\n",
      "177\n",
      "5\n",
      "[[6, 2, 1, 5, 4, 3], [6, 2, 1, 5, 4, 3], [6, 2, 1, 5, 4, 3], [6, 2, 1, 5, 4, 3], [6, 2, 1, 5, 4, 3], [6, 2, 1, 5, 4, 3], [6, 2, 1, 5, 4, 3], [4, 2, 1, 6, 5, 3]]\n",
      "[181, 181, 181, 181, 181, 181, 181, 181]\n",
      "[55.248618784530386, 55.248618784530386, 55.248618784530386, 55.248618784530386, 55.248618784530386, 55.248618784530386, 55.248618784530386, 55.248618784530386]\n",
      "[[6, 2, 1, 5, 4, 3], [6, 2, 1, 5, 4, 3], [6, 2, 1, 5, 4, 3], [6, 2, 1, 5, 4, 3], [4, 2, 1, 6, 5, 3], [6, 2, 1, 5, 4, 3]]\n",
      "[1, 3]\n",
      "[[4, 2, 1, 6, 5, 3], [6, 2, 1, 5, 4, 3], [6, 2, 1, 5, 4, 3], [6, 2, 1, 5, 4, 3], [6, 2, 1, 5, 4, 3], [6, 2, 1, 5, 4, 3]]\n",
      "[5, 0]\n",
      "(5, [3, 2, 1, 5, 4, 6])\n",
      "54.83835676385319\n",
      "55.248618784530386\n",
      "[181, 181, 181, 181, 181, 181, 181, 181]\n",
      "[6, 2, 1, 5, 4, 3]\n",
      "177\n",
      "6\n",
      "[[4, 2, 1, 6, 5, 3], [6, 2, 1, 5, 4, 3], [6, 2, 1, 5, 4, 3], [6, 2, 1, 5, 4, 3], [6, 2, 1, 5, 4, 3], [6, 2, 1, 5, 4, 3], [6, 2, 1, 5, 4, 3], [6, 2, 1, 5, 4, 3]]\n",
      "[181, 181, 181, 181, 181, 181, 181, 181]\n",
      "[55.248618784530386, 55.248618784530386, 55.248618784530386, 55.248618784530386, 55.248618784530386, 55.248618784530386, 55.248618784530386, 55.248618784530386]\n",
      "[[6, 2, 1, 5, 4, 3], [6, 2, 1, 5, 4, 3], [6, 2, 1, 5, 4, 3], [6, 2, 1, 5, 4, 3], [6, 2, 1, 5, 4, 3], [6, 2, 1, 5, 4, 3]]\n",
      "[2, 2]\n",
      "[[6, 2, 1, 5, 4, 3], [6, 2, 1, 5, 4, 3], [6, 2, 1, 5, 4, 3], [6, 2, 1, 5, 4, 3], [6, 2, 1, 5, 4, 3], [6, 2, 1, 5, 4, 3]]\n",
      "[5, 3]\n",
      "(4, [6, 2, 1, 3, 4, 5])\n",
      "55.33780138143844\n",
      "55.40468832911945\n",
      "[177, 181, 181, 181, 181, 181, 181, 181]\n",
      "[6, 2, 1, 5, 4, 3]\n",
      "177\n",
      "7\n",
      "[[6, 2, 1, 3, 4, 5], [6, 2, 1, 5, 4, 3], [6, 2, 1, 5, 4, 3], [6, 2, 1, 5, 4, 3], [6, 2, 1, 5, 4, 3], [6, 2, 1, 5, 4, 3], [4, 2, 1, 6, 5, 3], [6, 2, 1, 5, 4, 3]]\n",
      "[177, 181, 181, 181, 181, 181, 181, 181]\n",
      "[56.497175141242934, 55.248618784530386, 55.248618784530386, 55.248618784530386, 55.248618784530386, 55.248618784530386, 55.248618784530386, 55.248618784530386]\n",
      "[[6, 2, 1, 3, 4, 5], [6, 2, 1, 5, 4, 3], [6, 2, 1, 5, 4, 3], [6, 2, 1, 5, 4, 3], [4, 2, 1, 6, 5, 3], [6, 2, 1, 5, 4, 3]]\n",
      "[0, 0]\n",
      "[[6, 2, 1, 3, 4, 5], [6, 2, 1, 5, 4, 3], [6, 2, 1, 5, 4, 3], [6, 2, 1, 5, 4, 3], [6, 2, 1, 5, 4, 3], [4, 2, 1, 6, 5, 3]]\n",
      "[0, 0]\n",
      "(3, [6, 2, 1, 5, 4, 3])\n",
      "55.42698397834648\n",
      "55.560757873708525\n",
      "[177, 177, 181, 181, 181, 181, 181, 181]\n",
      "[6, 2, 1, 5, 4, 3]\n",
      "177\n",
      "8\n",
      "[[6, 2, 1, 3, 4, 5], [6, 2, 1, 3, 4, 5], [6, 2, 1, 5, 4, 3], [6, 2, 1, 5, 4, 3], [6, 2, 1, 5, 4, 3], [4, 2, 1, 6, 5, 3], [6, 2, 1, 5, 4, 3], [6, 2, 1, 5, 4, 3]]\n",
      "[177, 177, 181, 181, 181, 181, 181, 181]\n",
      "[56.497175141242934, 56.497175141242934, 55.248618784530386, 55.248618784530386, 55.248618784530386, 55.248618784530386, 55.248618784530386, 55.248618784530386]\n",
      "[[6, 2, 1, 5, 4, 3], [6, 2, 1, 5, 4, 3], [6, 2, 1, 5, 4, 3], [6, 2, 1, 3, 4, 5], [6, 2, 1, 3, 4, 5], [4, 2, 1, 6, 5, 3]]\n",
      "[2, 2]\n",
      "[[6, 2, 1, 3, 4, 5], [6, 2, 1, 5, 4, 3], [6, 2, 1, 5, 4, 3], [6, 2, 1, 5, 4, 3], [4, 2, 1, 6, 5, 3], [6, 2, 1, 3, 4, 5]]\n",
      "[0, 2]\n",
      "(4, [1, 2, 4, 6, 5, 3])\n",
      "55.32202292198548\n",
      "55.87289696288666\n",
      "[177, 177, 177, 177, 181, 181, 181, 181]\n",
      "[6, 2, 1, 5, 4, 3]\n",
      "177\n"
     ]
    }
   ],
   "source": [
    "generation = 0    #initialise the generation \n",
    "no_change = 0\n",
    "\n",
    "population = initial_population  #initialise the population to the initial, random population\n",
    "\n",
    "current_route = population[0]\n",
    "current_distance = distance(current_route)\n",
    "\n",
    "while no_change < 8:     #The algorithm will run until there is no imporvement in 8 generations\n",
    "    \n",
    "    print(generation)\n",
    "    \n",
    "    population_distance = []         #find the distances of the population\n",
    "    \n",
    "    print(population)    \n",
    "\n",
    "    for i in range(8):\n",
    "        dist = distance(population[i])\n",
    "        population_distance.append(dist)\n",
    "            \n",
    "    fit = fitness(population)   #find the fitness of the population\n",
    "\n",
    "    print(population_distance)\n",
    "    print(fit)\n",
    "\n",
    "    parents = tournament(population)\n",
    "\n",
    "    print(parents)\n",
    "\n",
    "    children = breed(parents)\n",
    "\n",
    "    print(children)\n",
    "\n",
    "    mut = mutation(children)         #mutate one of the children\n",
    "\n",
    "    print(mut)\n",
    "\n",
    "    children.remove(children[mut[0]])   #remove the original child and include the mutated child\n",
    "    children.append(mut[1])\n",
    "\n",
    "    population = children + population             #The total population is the old population plus the new children\n",
    "    \n",
    "    mean_fit_all = np.mean(fitness(population))     #find the mean fitness of the old population and children\n",
    "    \n",
    "    print(mean_fit_all)\n",
    "\n",
    "    new_population = elitism(population)            #find the new population from elitism selection\n",
    "    \n",
    "    mean_fit_new = np.mean(fitness(new_population)) #find the mean fitness of the new population\n",
    "    print(mean_fit_new)\n",
    "    \n",
    "    population = new_population\n",
    "\n",
    "    population_distance = []\n",
    "\n",
    "    for i in range(8):\n",
    "        dist = distance(population[i])\n",
    "        population_distance.append(dist)\n",
    "\n",
    "        if dist < best_distance:                 #in the new population distances find if there is a smaller distance\n",
    "            best_distance = dist\n",
    "            best_route = population[i]\n",
    "    \n",
    "    print(population_distance)\n",
    "    print(best_route)\n",
    "    print(best_distance)\n",
    "\n",
    "    if best_distance == current_distance:         #if there were no improving solutions in the neighborhood\n",
    "        no_change = no_change + 1\n",
    "\n",
    "    else:\n",
    "        current_route = best_route                #else: continue to the next generation with the new population\n",
    "        current_distance = best_distance\n",
    "        no_change = 0\n",
    "       \n",
    "    generation = generation + 1\n"
   ]
  },
  {
   "cell_type": "code",
   "execution_count": null,
   "metadata": {},
   "outputs": [],
   "source": []
  }
 ],
 "metadata": {
  "kernelspec": {
   "display_name": "Python 3",
   "language": "python",
   "name": "python3"
  },
  "language_info": {
   "codemirror_mode": {
    "name": "ipython",
    "version": 3
   },
   "file_extension": ".py",
   "mimetype": "text/x-python",
   "name": "python",
   "nbconvert_exporter": "python",
   "pygments_lexer": "ipython3",
   "version": "3.7.4"
  }
 },
 "nbformat": 4,
 "nbformat_minor": 2
}
