{
 "cells": [
  {
   "cell_type": "markdown",
   "metadata": {},
   "source": [
    "# Import libraries"
   ]
  },
  {
   "cell_type": "code",
   "execution_count": 3,
   "metadata": {},
   "outputs": [],
   "source": [
    "import numpy as np\n",
    "import matplotlib.pyplot as plt\n",
    "import pandas as pd\n",
    "import statistics\n",
    "from scipy.stats import mode"
   ]
  },
  {
   "cell_type": "markdown",
   "metadata": {},
   "source": [
    "# Parameters"
   ]
  },
  {
   "cell_type": "code",
   "execution_count": 4,
   "metadata": {},
   "outputs": [],
   "source": [
    "Maxweight = 16\n",
    "value = [8, 11, 9, 12, 14, 10, 6, 7, 13] #benefits of the items\n",
    "weights = [1, 2, 3, 2, 3, 4, 1, 5, 3] #weights of the items\n",
    "n = 9 #number of items"
   ]
  },
  {
   "cell_type": "markdown",
   "metadata": {},
   "source": [
    "# Initial Solution"
   ]
  },
  {
   "cell_type": "code",
   "execution_count": 5,
   "metadata": {},
   "outputs": [],
   "source": [
    "s0i = [0, 1, 1, 1, 0, 0, 1, 1, 1] \n",
    "s0ii = [0, 1, 0, 1, 0, 0, 0, 1, 0]\n",
    "#Given in the question"
   ]
  },
  {
   "cell_type": "markdown",
   "metadata": {},
   "source": [
    "# Model"
   ]
  },
  {
   "cell_type": "markdown",
   "metadata": {},
   "source": [
    "## neighborhood"
   ]
  },
  {
   "cell_type": "code",
   "execution_count": 6,
   "metadata": {},
   "outputs": [],
   "source": [
    "#single-bit complememnt moves neighborhood of solution x         \n",
    "def neighborhood(x):\n",
    "    \n",
    "    neighborhood = []     \n",
    "    \n",
    "    for i in range(0,n):\n",
    "        neighborhood.append(x[:])\n",
    "        \n",
    "        if neighborhood[i][i] == 1:    #This flips the selected point from 1 to 0\n",
    "            neighborhood[i][i] = 0\n",
    "        else:\n",
    "            neighborhood[i][i] = 1     #This flips the selected point from 0 to 1\n",
    "      \n",
    "    return neighborhood"
   ]
  },
  {
   "cell_type": "code",
   "execution_count": 7,
   "metadata": {},
   "outputs": [
    {
     "data": {
      "text/plain": [
       "[[0, 1, 0, 1, 1, 0, 0, 1, 1],\n",
       " [1, 0, 0, 1, 1, 0, 0, 1, 1],\n",
       " [1, 1, 1, 1, 1, 0, 0, 1, 1],\n",
       " [1, 1, 0, 0, 1, 0, 0, 1, 1],\n",
       " [1, 1, 0, 1, 0, 0, 0, 1, 1],\n",
       " [1, 1, 0, 1, 1, 1, 0, 1, 1],\n",
       " [1, 1, 0, 1, 1, 0, 1, 1, 1],\n",
       " [1, 1, 0, 1, 1, 0, 0, 0, 1],\n",
       " [1, 1, 0, 1, 1, 0, 0, 1, 0]]"
      ]
     },
     "execution_count": 7,
     "metadata": {},
     "output_type": "execute_result"
    }
   ],
   "source": [
    "#test that the code is working\n",
    "ans = neighborhood([1, 1, 0, 1, 1, 0, 0, 1, 1])\n",
    "ans"
   ]
  },
  {
   "cell_type": "markdown",
   "metadata": {},
   "source": [
    "## Evaluate"
   ]
  },
  {
   "cell_type": "code",
   "execution_count": 8,
   "metadata": {},
   "outputs": [],
   "source": [
    "#function to evaluate a solution x in terms of constraint and objective functions\n",
    "def evaluate(x):\n",
    "          \n",
    "    a=np.array(x)\n",
    "    b=np.array(value)\n",
    "    c=np.array(weights)\n",
    "    \n",
    "    totalValue = np.dot(a,b)     #compute the objective value of the knapsack selection\n",
    "    totalWeight = np.dot(a,c)    #compute the weight value of the knapsack selection (constraint)\n",
    "    \n",
    "    if totalWeight > Maxweight:\n",
    "        totalValue = \"infeasible\"    #if the weight breaks the weight constraint then the solution is infeasible\n",
    "\n",
    "    return totalValue   #returns the total objective value of the items"
   ]
  },
  {
   "cell_type": "code",
   "execution_count": 9,
   "metadata": {},
   "outputs": [
    {
     "name": "stdout",
     "output_type": "stream",
     "text": [
      "['infeasible' '47' '49' '46' 'infeasible' 'infeasible' '52' '51' '45']\n"
     ]
    },
    {
     "data": {
      "text/plain": [
       "'46'"
      ]
     },
     "execution_count": 9,
     "metadata": {},
     "output_type": "execute_result"
    }
   ],
   "source": [
    "#test that the code is working\n",
    "z = []\n",
    "\n",
    "for i in range(9):\n",
    "    z.append(evaluate(neighborhood(s0i)[i]))\n",
    "    \n",
    "z = np.array(z)\n",
    "print(z)\n",
    "z[3]"
   ]
  },
  {
   "cell_type": "markdown",
   "metadata": {},
   "source": [
    "## Overall logic"
   ]
  },
  {
   "cell_type": "markdown",
   "metadata": {},
   "source": [
    "Selection method - best improvement"
   ]
  },
  {
   "cell_type": "code",
   "execution_count": 16,
   "metadata": {},
   "outputs": [
    {
     "name": "stdout",
     "output_type": "stream",
     "text": [
      "[0, 1, 1, 1, 0, 0, 1, 1, 1] [0, 1, 1, 1, 0, 0, 1, 1, 1] 58 58\n"
     ]
    }
   ],
   "source": [
    "x_current = s0i                   #The current solution \n",
    "x_best = x_current                 #The best solution \n",
    "f_current = evaluate(x_current)    #The objective value of the current soluton \n",
    "f_best = f_current                 #The objective value of the best solution\n",
    "\n",
    "print(x_current, x_best, f_current, f_best)"
   ]
  },
  {
   "cell_type": "code",
   "execution_count": 17,
   "metadata": {},
   "outputs": [
    {
     "name": "stdout",
     "output_type": "stream",
     "text": [
      "[[1, 1, 1, 1, 0, 0, 1, 1, 1], [0, 0, 1, 1, 0, 0, 1, 1, 1], [0, 1, 0, 1, 0, 0, 1, 1, 1], [0, 1, 1, 0, 0, 0, 1, 1, 1], [0, 1, 1, 1, 1, 0, 1, 1, 1], [0, 1, 1, 1, 0, 1, 1, 1, 1], [0, 1, 1, 1, 0, 0, 0, 1, 1], [0, 1, 1, 1, 0, 0, 1, 0, 1], [0, 1, 1, 1, 0, 0, 1, 1, 0]]\n",
      "['infeasible', 47, 49, 46, 'infeasible', 'infeasible', 52, 51, 45]\n",
      "\n",
      "Total number of solutions checked:  1\n",
      "Best value found so far:  58\n",
      "Best solution found so far:  [0, 1, 1, 1, 0, 0, 1, 1, 1]\n",
      "\n",
      "Final number of solutions checked:  1\n",
      "Best value found:  58\n",
      "Weight is:  58\n",
      "Total number of items selected:  6\n",
      "Best solution:  [0, 1, 1, 1, 0, 0, 1, 1, 1]\n"
     ]
    }
   ],
   "source": [
    "#begin local search overall logic\n",
    "\n",
    "done = 0\n",
    "solutionsChecked = 0      #varaible to record the number of solutions evaluated\n",
    "\n",
    "while done == 0:\n",
    "    \n",
    "    solutionsChecked = solutionsChecked + 1\n",
    "    \n",
    "    Neighborhood = neighborhood(x_current)   #create a list of all neighbors in the neighborhood of x_curr\n",
    "    print(Neighborhood)\n",
    "    \n",
    "    z = []\n",
    "    for i in range(n):\n",
    "        ans = evaluate(Neighborhood[i])     #evaluate and return the objective function for each of the neighbours\n",
    "        z.append(ans)\n",
    "    print(z)\n",
    "\n",
    "    for i in range(n):\n",
    "\n",
    "        if(z[i] == 'infeasible'):\n",
    "            x_current = x_current\n",
    "\n",
    "        elif(z[i] > f_best):\n",
    "            x_best = Neighborhood[i]\n",
    "            f_best = evaluate(Neighborhood[i])\n",
    "\n",
    "    if f_best == f_current:         #if there were no improving solutions in the neighborhood then the loop terminates\n",
    "        done = done + 1\n",
    "    else:\n",
    "        x_current = x_best         #else: move to the neighbor solution and continue\n",
    "        f_current = f_best \n",
    "        \n",
    "    print (\"\\nTotal number of solutions checked: \", solutionsChecked)\n",
    "    print (\"Best value found so far: \", f_best) \n",
    "    print (\"Best solution found so far: \", x_best)\n",
    "    \n",
    "print (\"\\nFinal number of solutions checked: \", solutionsChecked)\n",
    "print (\"Best value found: \", f_best)\n",
    "print (\"Weight is: \", f_best)\n",
    "print (\"Total number of items selected: \", np.sum(x_best))\n",
    "print (\"Best solution: \", x_best)"
   ]
  },
  {
   "cell_type": "code",
   "execution_count": null,
   "metadata": {},
   "outputs": [],
   "source": []
  },
  {
   "cell_type": "code",
   "execution_count": null,
   "metadata": {},
   "outputs": [],
   "source": []
  }
 ],
 "metadata": {
  "kernelspec": {
   "display_name": "Python 3",
   "language": "python",
   "name": "python3"
  },
  "language_info": {
   "codemirror_mode": {
    "name": "ipython",
    "version": 3
   },
   "file_extension": ".py",
   "mimetype": "text/x-python",
   "name": "python",
   "nbconvert_exporter": "python",
   "pygments_lexer": "ipython3",
   "version": "3.7.4"
  }
 },
 "nbformat": 4,
 "nbformat_minor": 2
}
